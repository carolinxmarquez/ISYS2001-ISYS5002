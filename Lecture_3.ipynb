{
  "nbformat": 4,
  "nbformat_minor": 0,
  "metadata": {
    "colab": {
      "provenance": [],
      "authorship_tag": "ABX9TyOJPZOBAKapswYJfup9qaM5",
      "include_colab_link": true
    },
    "kernelspec": {
      "name": "python3",
      "display_name": "Python 3"
    },
    "language_info": {
      "name": "python"
    }
  },
  "cells": [
    {
      "cell_type": "markdown",
      "metadata": {
        "id": "view-in-github",
        "colab_type": "text"
      },
      "source": [
        "<a href=\"https://colab.research.google.com/github/carolinxmarquez/ISYS2001-ISYS5002/blob/main/Lecture_3.ipynb\" target=\"_parent\"><img src=\"https://colab.research.google.com/assets/colab-badge.svg\" alt=\"Open In Colab\"/></a>"
      ]
    },
    {
      "cell_type": "code",
      "execution_count": null,
      "metadata": {
        "colab": {
          "base_uri": "https://localhost:8080/"
        },
        "id": "tYQf6TrasX-P",
        "outputId": "8a1f8cb6-0978-4efa-9efc-26a2165bc421"
      },
      "outputs": [
        {
          "output_type": "stream",
          "name": "stdout",
          "text": [
            "I don't need a beer \n"
          ]
        }
      ],
      "source": [
        "# CONDITIONALS\n",
        "temperature = 25\n",
        "\n",
        "if temperature > 30:\n",
        "  print(\"I need a beer! \")\n",
        "else:\n",
        "  print(\"I don't need a beer \")\n"
      ]
    },
    {
      "cell_type": "code",
      "source": [
        "# Que pasa si ponemos la temperatura la misma: no me va a dar error porque yo lo que le he dicho es que display eso solo con esa condicion, sino else\n",
        "temperature = 20\n",
        "if temperature < 20:\n",
        "  print(\"It's chilly\")\n",
        "  print(\"I hope u have a jumper\")\n",
        "else:\n",
        "  print(\"It's warm\")"
      ],
      "metadata": {
        "colab": {
          "base_uri": "https://localhost:8080/"
        },
        "id": "SnbQEa7QXlIA",
        "outputId": "d290383f-9ed9-4734-a832-c90d3ad3e3a1"
      },
      "execution_count": null,
      "outputs": [
        {
          "output_type": "stream",
          "name": "stdout",
          "text": [
            "It's warm\n"
          ]
        }
      ]
    },
    {
      "cell_type": "code",
      "source": [
        "#Assignments y relations"
      ],
      "metadata": {
        "id": "D2qCScMAYYhT"
      },
      "execution_count": null,
      "outputs": []
    },
    {
      "cell_type": "code",
      "source": [
        "# Logical Operators: combine multiple conditions\n",
        "temperature = 25\n",
        "is_raining = False\n",
        "if temperature < 25 or is_raining:\n",
        "  print(\"I need a jacket \")\n",
        "else:\n",
        "  print (\"I dont need a jacket\")\n"
      ],
      "metadata": {
        "colab": {
          "base_uri": "https://localhost:8080/"
        },
        "id": "_zcVZTGavzCK",
        "outputId": "5f168f93-9a74-4f66-9f68-a1421d5e11b8"
      },
      "execution_count": null,
      "outputs": [
        {
          "output_type": "stream",
          "name": "stdout",
          "text": [
            "I dont need a jacket\n"
          ]
        }
      ]
    },
    {
      "cell_type": "code",
      "source": [
        "temperature = 25\n",
        "is_rainig = True\n",
        "if temperature > 20 and not is_raining:\n",
        "  print(\"I need a beer\")\n",
        "else:\n",
        "  print(\"I need a jacket\")\n"
      ],
      "metadata": {
        "colab": {
          "base_uri": "https://localhost:8080/"
        },
        "id": "KF30CnyYxiDv",
        "outputId": "7a671135-a9e4-4ab5-f1c2-d5371d0c7d9f"
      },
      "execution_count": null,
      "outputs": [
        {
          "output_type": "stream",
          "name": "stdout",
          "text": [
            "I need a beer\n"
          ]
        }
      ]
    },
    {
      "cell_type": "code",
      "source": [
        "# OWN CONVERSATION\n",
        "temperature = int(input(\"What is today's temperature? \"))\n",
        "if temperature > 25:\n",
        "  print (\"Go for a swim!\")\n",
        "elif temperature < 15:\n",
        "  print (\"Stay at home and watch Netflix\")\n",
        "else:\n",
        "  print (\"Go for a walk \")\n"
      ],
      "metadata": {
        "colab": {
          "base_uri": "https://localhost:8080/"
        },
        "id": "2SC4QEj-y4AT",
        "outputId": "dbfc9b07-bfc9-40a4-ded4-4c640e0e4816"
      },
      "execution_count": null,
      "outputs": [
        {
          "output_type": "stream",
          "name": "stdout",
          "text": [
            "What is today's temperature? 16\n",
            "Go for a walk \n"
          ]
        }
      ]
    },
    {
      "cell_type": "code",
      "source": [
        "# OWN CONVERSATION at class\n",
        "temperature = input(\"What is today's temperature? \")\n",
        "temperature = int(temperature)\n",
        "it_is_raining = input(\"Is it raining?\")\n",
        "\n",
        "#le decimos al programa que ponga la respuesta (sea la q sea, por si lo escriben en mayuscula) en minuscula, para que lo que viene despues no se buguee\n",
        "it_is_raining = it_is_raining.lower()\n",
        "it_is_raining = (it_is_raining == \"yes\")\n",
        "if temperature <= 20:\n",
        "  print (\"Its chilly!\")\n",
        "if it_is_raining == True: #podriamos haber puesto aqui tmbn yes pero puedo poner true si me apaño mejor\n",
        "  print(\"Take an umbrella\")\n",
        "  print(\"I hope you have a jumper\")\n",
        "else:\n",
        "  print (\"It's warm \")\n",
        "print(\"Have a nice day\")\n",
        "#si la respuesta es distinta a yes, cualquier cosa sera tomada como distinto a true y te dara las respuestas de else.\n",
        "#si pones el numero escrito como twenty da error, asi que aprenderemos a decirle que entineda esas cosas"
      ],
      "metadata": {
        "colab": {
          "base_uri": "https://localhost:8080/"
        },
        "id": "np46BE2Ia4pE",
        "outputId": "bd4637fc-6c13-42eb-bac0-91bde1db9774"
      },
      "execution_count": null,
      "outputs": [
        {
          "output_type": "stream",
          "name": "stdout",
          "text": [
            "What is today's temperature? 18\n",
            "Is it raining?yes\n",
            "Its chilly!\n",
            "Take an umbrella\n",
            "I hope you have a jumper\n",
            "Have a nice day\n"
          ]
        }
      ]
    },
    {
      "cell_type": "code",
      "source": [
        "#2 steps para coonvertir el valor de la temperatura:\n",
        "# step1: temperature becomes a string\n",
        "# step2: temperature becomes a number\n",
        "#va a coger lo que este en los brackets y lo va a convertir digits y return en un numero.\n",
        "\n",
        "# Remember that the input() function always returns a string. Even if a user types a number, it is read as a string.\n",
        "#To perform numerical comparisons, we convert the input to an integer using int() (or to a float using float() if needed).\n",
        "\n",
        "temperature = input(\"What is the temperature today? \")\n",
        "temperature = int(temperature)\n",
        "#podemos convertir un integrer 18 en 18.0 y si checkeamos el nombre de la variable en [x] lo veremos reflejado\n",
        "temperature = input(\"What is the temperature today? \")\n",
        "temperature = float(temperature)"
      ],
      "metadata": {
        "id": "pD7dW8TJZBK7"
      },
      "execution_count": null,
      "outputs": []
    },
    {
      "cell_type": "code",
      "source": [
        "#Pero que pasa si el user no escribe un numero? For now, we assume that the user enters a valid numeric input.\n",
        "#Later, you'll learn techniques to handle non-numeric input."
      ],
      "metadata": {
        "id": "sVcz7KadT0h_"
      },
      "execution_count": null,
      "outputs": []
    },
    {
      "cell_type": "code",
      "source": [
        "# NOTES ABOUT OPEARTORS\n",
        "# <= is a comparison: \"less than or equal to.\"\n",
        "# = is an assignment: assigns a value to a variable.\n",
        "# =< is not valid in Python and generates an error."
      ],
      "metadata": {
        "id": "R7MfArgHae3N"
      },
      "execution_count": null,
      "outputs": []
    },
    {
      "cell_type": "code",
      "source": [
        "# OWN MENU Program\n",
        "print (\"Menu:\")\n",
        "print (\"1. Blue is sky colour \")\n",
        "print (\"2. Pink is the rainbow \")"
      ],
      "metadata": {
        "colab": {
          "base_uri": "https://localhost:8080/"
        },
        "id": "idQgHx6m4QBR",
        "outputId": "ea8c1fe8-5af4-4a8b-da8f-35100ed5f2f5"
      },
      "execution_count": null,
      "outputs": [
        {
          "output_type": "stream",
          "name": "stdout",
          "text": [
            "Menu:\n",
            "1. Blue is sky colour \n",
            "2. Pink is the rainbow \n"
          ]
        }
      ]
    },
    {
      "cell_type": "code",
      "source": [
        "select = input(\"Select (Blue or Pink):\")"
      ],
      "metadata": {
        "colab": {
          "base_uri": "https://localhost:8080/"
        },
        "id": "IZNRaGIh4j9E",
        "outputId": "5dac9ae7-6d88-47dc-8ae1-34bcb2b56809"
      },
      "execution_count": null,
      "outputs": [
        {
          "name": "stdout",
          "output_type": "stream",
          "text": [
            "Select (Blue or Pink):Blue\n"
          ]
        }
      ]
    },
    {
      "cell_type": "code",
      "source": [
        "if select == \"Blue\":\n",
        "  print (\"Isnt it the best colour ever? \")\n",
        "elif select == \"Pink\":\n",
        "  print(\"Pink is awesome\")\n",
        "else:\n",
        "  print (\"That is an asewome colour as well\")"
      ],
      "metadata": {
        "colab": {
          "base_uri": "https://localhost:8080/"
        },
        "id": "HZVsbr6-4_NT",
        "outputId": "35333197-5cf8-47b6-ff6c-fb67c88a24b9"
      },
      "execution_count": null,
      "outputs": [
        {
          "output_type": "stream",
          "name": "stdout",
          "text": [
            "Isnt it the best colour ever? \n"
          ]
        }
      ]
    },
    {
      "cell_type": "code",
      "source": [
        "#ACTIVITY 3 LECTURE 3."
      ],
      "metadata": {
        "id": "hAy61ucUUHyx"
      },
      "execution_count": null,
      "outputs": []
    },
    {
      "cell_type": "code",
      "source": [
        "#Step1 run your program.\n",
        "temperature = input(\"What is the temperature today? \")\n",
        "temperature = int(temperature)\n",
        "name = input (\"What is your name? \")\n",
        "if temperature < 5:\n",
        "   print(\"It's freezing – bundle up!\")\n",
        "elif temperature < 15:\n",
        "   print(\"It's cold – wear a jacket!\")\n",
        "elif temperature < 25:\n",
        "    print(\"It's warm – enjoy the day!\")\n",
        "else:\n",
        "    print(\"It's hot – stay cool!\")\n",
        "print(\"Goodbye, have a nice day! \" + name)"
      ],
      "metadata": {
        "colab": {
          "base_uri": "https://localhost:8080/"
        },
        "id": "KyG_Ogt0ULBp",
        "outputId": "ecf19ace-3aa7-4d80-ea04-a5d6b4337b23"
      },
      "execution_count": 26,
      "outputs": [
        {
          "output_type": "stream",
          "name": "stdout",
          "text": [
            "What is the temperature today? -25\n",
            "What is your name? carol\n",
            "It's freezing – bundle up!\n",
            "Goodbye, have a nice day! carol\n"
          ]
        }
      ]
    },
    {
      "cell_type": "code",
      "source": [
        "#VERIFY that the INPUT is NUMERIC\n",
        "#Para asegurar q el usuario solo ingrese números antes de convertirlos a int, evitando errores, usamos:\n",
        "#Check if the input is numeric:if temp_input.isdigit()\n",
        "#For negative numbers, check if the string starts with '-' and the rest is numeric: (temp_input.startswith('-') and temp_input[1:].isdigit()):\n",
        "temperature = input(\"What is the temperature today? \")\n",
        "name = input (\"What is your name? \")\n",
        "if temperature.isdigit() or (temperature.startswith('-') and temperature[1:].isdigit()):\n",
        "        temperature = int(temperature)\n",
        "        if temperature < 5:\n",
        "            print(\"It's freezing – bundle up!\")\n",
        "        elif temperature < 15:\n",
        "            print(\"It's cold – wear a jacket!\")\n",
        "        elif temperature < 25:\n",
        "            print(\"It's warm – enjoy the day!\")\n",
        "        else:\n",
        "            print(\"It's hot – stay cool!\")\n",
        "else:\n",
        "        print(\"Invalid input. Please enter a numeric temperature.\")\n",
        "\n",
        "print(\"Goodbye, have a nice day! \" + name)\n",
        "\n",
        "\n",
        "\n",
        "\n",
        "\n"
      ],
      "metadata": {
        "colab": {
          "base_uri": "https://localhost:8080/"
        },
        "id": "NSClahMmconT",
        "outputId": "66a6fbc5-8a75-4915-9c97-2ba1647f1aae"
      },
      "execution_count": 24,
      "outputs": [
        {
          "output_type": "stream",
          "name": "stdout",
          "text": [
            "What is the temperature today? 23a\n",
            "What is your name? carolina\n",
            "Invalid input. Please enter a numeric temperature.\n",
            "Goodbye, have a nice day! carolina\n"
          ]
        }
      ]
    }
  ]
}