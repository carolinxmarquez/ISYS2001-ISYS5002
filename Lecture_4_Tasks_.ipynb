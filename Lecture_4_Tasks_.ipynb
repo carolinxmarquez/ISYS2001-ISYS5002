{
  "nbformat": 4,
  "nbformat_minor": 0,
  "metadata": {
    "colab": {
      "provenance": [],
      "authorship_tag": "ABX9TyMtyEHTwJhibpxdQowtkb9I",
      "include_colab_link": true
    },
    "kernelspec": {
      "name": "python3",
      "display_name": "Python 3"
    },
    "language_info": {
      "name": "python"
    }
  },
  "cells": [
    {
      "cell_type": "markdown",
      "metadata": {
        "id": "view-in-github",
        "colab_type": "text"
      },
      "source": [
        "<a href=\"https://colab.research.google.com/github/carolinxmarquez/ISYS2001-ISYS5002/blob/main/Lecture_4_Tasks_.ipynb\" target=\"_parent\"><img src=\"https://colab.research.google.com/assets/colab-badge.svg\" alt=\"Open In Colab\"/></a>"
      ]
    },
    {
      "cell_type": "code",
      "execution_count": null,
      "metadata": {
        "id": "Kk9HAmCTzj5b",
        "colab": {
          "base_uri": "https://localhost:8080/"
        },
        "outputId": "ba81589b-6be9-4f0d-e32d-a2c20489fde3"
      },
      "outputs": [
        {
          "output_type": "stream",
          "name": "stdout",
          "text": [
            "What is your name?Carolina\n",
            "Hello, Carolina!\n"
          ]
        }
      ],
      "source": [
        "# CREATE YOUR WRITING\n",
        "def greet ():\n",
        "  name = input(\"What is your name?\")\n",
        "  print(\"Hello, \" + name + \"!\")\n",
        "greet() #Calling the function to see it in action\n"
      ]
    },
    {
      "cell_type": "code",
      "source": [
        "# Definir la función correctamente con parámetros válidos\n",
        "def add_numbers(a, b):\n",
        "    result = a + b  # Usamos los parámetros en la suma\n",
        "    print(\"The sum is\", result)\n",
        "\n",
        "# Llamar a la función pasando dos números\n",
        "add_numbers(3, 2)"
      ],
      "metadata": {
        "id": "qk_OxJp1ztG8",
        "colab": {
          "base_uri": "https://localhost:8080/"
        },
        "outputId": "165f8a07-0258-4a63-bfa0-28a680676e6a"
      },
      "execution_count": null,
      "outputs": [
        {
          "output_type": "stream",
          "name": "stdout",
          "text": [
            "The sum is 5\n"
          ]
        }
      ]
    },
    {
      "cell_type": "code",
      "source": [
        "def describe_person (name, age=18):\n",
        "  print(name + \" is \" + str(age) + \" years old.\")\n",
        "#Calling the function with both arguments\n",
        "describe_person(\"Carolina\", 25)\n",
        "#Calling the function with just the name; age defaults to 18\n",
        "describe_person(\"Bob\")"
      ],
      "metadata": {
        "colab": {
          "base_uri": "https://localhost:8080/"
        },
        "id": "AcvfDwV5U0gq",
        "outputId": "a98ac7f6-2388-4e19-bdae-eff2fb3a8d06"
      },
      "execution_count": null,
      "outputs": [
        {
          "output_type": "stream",
          "name": "stdout",
          "text": [
            "Carolina is 25 years old.\n",
            "Bob is 18 years old.\n"
          ]
        }
      ]
    },
    {
      "cell_type": "markdown",
      "source": [
        "ACTIVITY 1 LECTURE 4"
      ],
      "metadata": {
        "id": "5peQH6Xoeulo"
      }
    },
    {
      "cell_type": "code",
      "source": [
        "#FUNCTIONS. To define a function I need a name; a and b.\n",
        "#El bloque debajo de la funcion es parte de ella, is contained in this block\n",
        "def add(a, b):\n",
        "    return a + b\n",
        "\n",
        "#o podemos poner:\n",
        "def add(a, b):\n",
        "  result = a + b\n",
        "  return result\n",
        "#otras operaciones:\n",
        "def subtract(a, b):\n",
        "    return a - b\n",
        "\n",
        "def multiply(a, b):\n",
        "    return a * b\n",
        "\n",
        "def divide(a, b):\n",
        "    return a / b\n",
        "\n",
        "#We always do the same; we first Display the menu\n",
        "print(\"Simple Calculator Menu\")\n",
        "print(\"1. Add\")\n",
        "print(\"2. Subtract\")\n",
        "print(\"3. Multiply\")\n",
        "print(\"4. Divide\")\n",
        "\n",
        "# We get the user's choice\n",
        "choice = input(\"Enter your choice (1-4): \")\n",
        "\n",
        "# Get the two numbers from the user\n",
        "num1 = float(input(\"Enter the first number: \"))\n",
        "num2 = float(input(\"Enter the second number: \"))\n",
        "\n",
        "# Perform the chosen operation\n",
        "if choice == \"1\":\n",
        "    result = add(num1, num2)\n",
        "elif choice == \"2\":\n",
        "    result = subtract(num1, num2)\n",
        "elif choice == \"3\":\n",
        "    result = multiply(num1, num2)\n",
        "elif choice == \"4\":\n",
        "    result = divide(num1, num2)\n",
        "else:\n",
        "    result = \"Invalid choice.\"\n",
        "\n",
        "# Display the result\n",
        "print(\"Result:\", result)\n",
        "\n",
        "#The computer can take a int, can convert it into a float and no lost of information\n",
        "#WHY DO I PICK FLOAT OVER INT? (hora 4.29min 18 marzo)\n",
        "#El código usa float() en lugar de int() porque permite manejar tanto números enteros como decimales.\n",
        "#Aquí te explico por qué es preferible float en ciertos casos:\n",
        "#Razón principal: Manejo de números decimales\n",
        "#Si usas int(), cualquier número con decimales ingresado por el usuario se truncará a un entero, perdiendo la parte decimal.\n"
      ],
      "metadata": {
        "colab": {
          "base_uri": "https://localhost:8080/"
        },
        "id": "uDL17IgYWTeJ",
        "outputId": "cf419f2e-292c-4c4d-a057-909937d62bf9"
      },
      "execution_count": null,
      "outputs": [
        {
          "output_type": "stream",
          "name": "stdout",
          "text": [
            "Simple Calculator Menu\n",
            "1. Add\n",
            "2. Subtract\n",
            "3. Multiply\n",
            "4. Divide\n",
            "Enter your choice (1-4): 3\n",
            "Enter the first number: 24.5\n",
            "Enter the second number: 27\n",
            "Result: 661.5\n"
          ]
        }
      ]
    },
    {
      "cell_type": "code",
      "source": [
        "#No puedo dividir entre 0 , entonces deberia checkear wether the number is 0 así no me da error el programa, so send a message,\n",
        "#but dont do the division. Possible message:  If b = 0, display a message.\n",
        "#Que pasa si pongo numeros negativos y muy grandes? Result: -inf (negative infinitive).\n",
        "#Para el programa tmbn si el user da una choice =6 o un numero no entre 1 y 4.\n",
        "#Cuando hagamos el programa, testearlo, primero construirlo para normales y luego probar con cosas randoms.\n",
        "#USE THE SAME METHODOLOGY EVERYTIME, when we build the pseudocode, fijate en step 1 OF problem description dice prompt user for choice y en Step 2 dice ask the user!! BE CONSISTENT\n",
        "#DIF entre = y ==\n",
        "= se usa para asignar un valor a una variable.\n",
        "== se usa para comparar valores y devuelve True o False.\n"
      ],
      "metadata": {
        "id": "8l7mPk-KY8KA"
      },
      "execution_count": null,
      "outputs": []
    },
    {
      "cell_type": "markdown",
      "source": [
        "ACTIVITY 2 LECTURE 4\n"
      ],
      "metadata": {
        "id": "umLMusH6ezG1"
      }
    },
    {
      "cell_type": "code",
      "source": [
        "!pip install PyInputplus"
      ],
      "metadata": {
        "colab": {
          "base_uri": "https://localhost:8080/"
        },
        "id": "0IAS7g-2l93C",
        "outputId": "fdab2e93-d60b-4926-eee5-6d74c399b058"
      },
      "execution_count": 12,
      "outputs": [
        {
          "output_type": "stream",
          "name": "stdout",
          "text": [
            "Collecting PyInputplus\n",
            "  Downloading PyInputPlus-0.2.12.tar.gz (20 kB)\n",
            "  Installing build dependencies ... \u001b[?25l\u001b[?25hdone\n",
            "  Getting requirements to build wheel ... \u001b[?25l\u001b[?25hdone\n",
            "  Preparing metadata (pyproject.toml) ... \u001b[?25l\u001b[?25hdone\n",
            "Collecting pysimplevalidate>=0.2.7 (from PyInputplus)\n",
            "  Downloading PySimpleValidate-0.2.12.tar.gz (22 kB)\n",
            "  Installing build dependencies ... \u001b[?25l\u001b[?25hdone\n",
            "  Getting requirements to build wheel ... \u001b[?25l\u001b[?25hdone\n",
            "  Preparing metadata (pyproject.toml) ... \u001b[?25l\u001b[?25hdone\n",
            "Collecting stdiomask>=0.0.3 (from PyInputplus)\n",
            "  Downloading stdiomask-0.0.6.tar.gz (3.6 kB)\n",
            "  Installing build dependencies ... \u001b[?25l\u001b[?25hdone\n",
            "  Getting requirements to build wheel ... \u001b[?25l\u001b[?25hdone\n",
            "  Preparing metadata (pyproject.toml) ... \u001b[?25l\u001b[?25hdone\n",
            "Building wheels for collected packages: PyInputplus, pysimplevalidate, stdiomask\n",
            "  Building wheel for PyInputplus (pyproject.toml) ... \u001b[?25l\u001b[?25hdone\n",
            "  Created wheel for PyInputplus: filename=pyinputplus-0.2.12-py3-none-any.whl size=11348 sha256=fdf8bd2a6ec94a91a30f62798a87dd1512bf6c03ba232d57e1a4f3b747022c37\n",
            "  Stored in directory: /root/.cache/pip/wheels/a3/6b/89/3bec14288af8e0729d088fb41a785e583d49e772f2529c7676\n",
            "  Building wheel for pysimplevalidate (pyproject.toml) ... \u001b[?25l\u001b[?25hdone\n",
            "  Created wheel for pysimplevalidate: filename=pysimplevalidate-0.2.12-py3-none-any.whl size=16225 sha256=50507c0a7bbac6e5c10bfdaecd60b0b985d13839f11a8c30fe8e16865a8b7c68\n",
            "  Stored in directory: /root/.cache/pip/wheels/fc/40/7a/4d3b2dc2e80b4b3bbda89eec94fcefd6c8bd1101cc7bb89554\n",
            "  Building wheel for stdiomask (pyproject.toml) ... \u001b[?25l\u001b[?25hdone\n",
            "  Created wheel for stdiomask: filename=stdiomask-0.0.6-py3-none-any.whl size=3358 sha256=43d4ae24dc9471785afaebdc371b57023cdb98bd95d425412aef695cd1bb3d26\n",
            "  Stored in directory: /root/.cache/pip/wheels/19/0c/90/5ee0da7cf06ff7e233f273063797785d5eabf0ab9f04220866\n",
            "Successfully built PyInputplus pysimplevalidate stdiomask\n",
            "Installing collected packages: stdiomask, pysimplevalidate, PyInputplus\n",
            "Successfully installed PyInputplus-0.2.12 pysimplevalidate-0.2.12 stdiomask-0.0.6\n"
          ]
        }
      ]
    },
    {
      "cell_type": "code",
      "source": [
        "import pyinputplus as pyip\n",
        "\n",
        "# Ensures the user enters a float\n",
        "number = pyip.inputFloat(\"Enter a number: \")\n",
        "\n",
        "# Ensures the user enters one of the provided choices\n",
        "choice = pyip.inputChoice(['1', '2', '3', '4'], prompt=\"Enter your choice (1-4): \")"
      ],
      "metadata": {
        "colab": {
          "base_uri": "https://localhost:8080/"
        },
        "id": "ru8_m_vKmTf-",
        "outputId": "c358d3ef-fc64-4d1c-8f5b-aee07b947fd1"
      },
      "execution_count": 13,
      "outputs": [
        {
          "name": "stdout",
          "output_type": "stream",
          "text": [
            "Enter a number: ten\n",
            "'ten' is not a float.\n",
            "Enter a number: 1\n",
            "Enter your choice (1-4): 8\n",
            "'8' is not a valid choice.\n",
            "Enter your choice (1-4): 1\n"
          ]
        }
      ]
    },
    {
      "cell_type": "code",
      "source": [
        "pyip. #pregunytar a AIPuedo usar este paquete de pyip para convertir yes o no, para que cuand el usuario me ponga un numero disitinto no se buguee el programa"
      ],
      "metadata": {
        "id": "FeAz9Fenm95N"
      },
      "execution_count": null,
      "outputs": []
    }
  ]
}